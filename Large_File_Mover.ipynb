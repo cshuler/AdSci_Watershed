{
 "cells": [
  {
   "cell_type": "code",
   "execution_count": 6,
   "id": "ea2ef57b",
   "metadata": {},
   "outputs": [],
   "source": [
    "import os\n",
    "import shutil\n",
    "from datetime import datetime\n",
    "\n",
    "# One-liner to get today's date as a timestamp string\n",
    "timestamp_str = datetime.now().date().strftime(\"%Y%m%d\")"
   ]
  },
  {
   "cell_type": "code",
   "execution_count": 13,
   "id": "0485fc8d",
   "metadata": {},
   "outputs": [],
   "source": [
    "def list_large_files(directory, size_limit=100):\n",
    "    # Convert size limit to bytes\n",
    "    size_limit_bytes = size_limit * 1024 * 1024\n",
    "    \n",
    "    # Initialize an empty list to store large files\n",
    "    large_files = []\n",
    "\n",
    "    # Walk through the directory and its subdirectories\n",
    "    for foldername, subfolders, filenames in os.walk(directory):\n",
    "        for filename in filenames:\n",
    "            file_path = os.path.join(foldername, filename)\n",
    "            # Get the file size in bytes\n",
    "            file_size = os.path.getsize(file_path)\n",
    "            # Check if the file size exceeds the limit\n",
    "            if file_size > size_limit_bytes:\n",
    "                large_files.append((file_path, file_size))\n",
    "\n",
    "    return large_files\n",
    "\n",
    "\n",
    "\n",
    "\n",
    "def move_large_files(source_directory, destination_directory, size_limit=100):\n",
    "    # Convert size limit to bytes\n",
    "    size_limit_bytes = size_limit * 1024 * 1024\n",
    "    \n",
    "    # Create the destination directory if it doesn't exist\n",
    "    os.makedirs(destination_directory, exist_ok=True)\n",
    "\n",
    "    # Walk through the source directory and its subdirectories\n",
    "    for foldername, subfolders, filenames in os.walk(source_directory):\n",
    "        for filename in filenames:\n",
    "            file_path = os.path.join(foldername, filename)\n",
    "            # Get the file size in bytes\n",
    "            file_size = os.path.getsize(file_path)\n",
    "            # Check if the file size exceeds the limit\n",
    "            if file_size > size_limit_bytes:\n",
    "                # Construct the destination path\n",
    "                destination_path = os.path.join(destination_directory, filename)\n",
    "                # Move the file to the destination directory\n",
    "                shutil.move(file_path, destination_path)\n",
    "                print(f\"Moved: {file_path} to {destination_path}\")"
   ]
  },
  {
   "cell_type": "markdown",
   "id": "c3b92429",
   "metadata": {},
   "source": [
    "### List large Files in given directory"
   ]
  },
  {
   "cell_type": "code",
   "execution_count": 17,
   "id": "375a3199",
   "metadata": {},
   "outputs": [],
   "source": [
    "# List files usage:\n",
    "directory_path = '.'\n",
    "large_files_list = list_large_files(directory_path, size_limit=99)\n",
    "\n",
    "# Print the list of large files\n",
    "for file_path, file_size in large_files_list:\n",
    "    print(f\"{file_path}: {file_size / (1024 * 1024):.2f} MB\")"
   ]
  },
  {
   "cell_type": "markdown",
   "id": "4b53b21a",
   "metadata": {},
   "source": [
    "### Move large Files to the Git Ignore directory\n"
   ]
  },
  {
   "cell_type": "code",
   "execution_count": 19,
   "id": "49e14040",
   "metadata": {},
   "outputs": [],
   "source": [
    "# Example usage:\n",
    "source_directory_path = '.'\n",
    "\n",
    "# Use this path if doing a routine move\n",
    "destination_directory_path = os.path.join(\"..\", \"AdSci_Watershed_GIT_ignore\", timestamp_str)\n",
    "\n",
    "# Or use this path to move into a specific direectory for the large data files\n",
    "#destination_directory_path = os.path.join(\"..\", \"AdSci_Watershed_GIT_ignore\", \"LargeDataFiles\")\n",
    "\n",
    "\n",
    "move_large_files(source_directory_path, destination_directory_path, size_limit=99)"
   ]
  }
 ],
 "metadata": {
  "kernelspec": {
   "display_name": "Python 3 (ipykernel)",
   "language": "python",
   "name": "python3"
  },
  "language_info": {
   "codemirror_mode": {
    "name": "ipython",
    "version": 3
   },
   "file_extension": ".py",
   "mimetype": "text/x-python",
   "name": "python",
   "nbconvert_exporter": "python",
   "pygments_lexer": "ipython3",
   "version": "3.9.12"
  }
 },
 "nbformat": 4,
 "nbformat_minor": 5
}
